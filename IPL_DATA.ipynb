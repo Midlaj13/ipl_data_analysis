{
  "nbformat": 4,
  "nbformat_minor": 0,
  "metadata": {
    "colab": {
      "provenance": [],
      "authorship_tag": "ABX9TyOV/F8hiKj6QcdK05yJhwiD",
      "include_colab_link": true
    },
    "kernelspec": {
      "name": "python3",
      "display_name": "Python 3"
    },
    "language_info": {
      "name": "python"
    }
  },
  "cells": [
    {
      "cell_type": "markdown",
      "metadata": {
        "id": "view-in-github",
        "colab_type": "text"
      },
      "source": [
        "<a href=\"https://colab.research.google.com/github/Midlaj13/ipl_data_analysis/blob/main/IPL_DATA.ipynb\" target=\"_parent\"><img src=\"https://colab.research.google.com/assets/colab-badge.svg\" alt=\"Open In Colab\"/></a>"
      ]
    },
    {
      "cell_type": "code",
      "execution_count": null,
      "metadata": {
        "id": "duYQLkjTHFdM"
      },
      "outputs": [],
      "source": [
        "import pandas as pd\n",
        "import numpy as np"
      ]
    },
    {
      "cell_type": "code",
      "source": [
        "data=pd.read_csv(\"/content/matches.csv\")"
      ],
      "metadata": {
        "id": "VZLUuzuTQkLK"
      },
      "execution_count": null,
      "outputs": []
    },
    {
      "cell_type": "code",
      "source": [
        "data.info()"
      ],
      "metadata": {
        "id": "F4v2TAzMQ5la",
        "colab": {
          "base_uri": "https://localhost:8080/"
        },
        "outputId": "737e9e67-9ceb-4690-e7b2-99bbb9c1918d"
      },
      "execution_count": null,
      "outputs": [
        {
          "output_type": "stream",
          "name": "stdout",
          "text": [
            "<class 'pandas.core.frame.DataFrame'>\n",
            "RangeIndex: 756 entries, 0 to 755\n",
            "Data columns (total 18 columns):\n",
            " #   Column           Non-Null Count  Dtype \n",
            "---  ------           --------------  ----- \n",
            " 0   id               756 non-null    int64 \n",
            " 1   Season           756 non-null    object\n",
            " 2   city             749 non-null    object\n",
            " 3   date             756 non-null    object\n",
            " 4   team1            756 non-null    object\n",
            " 5   team2            756 non-null    object\n",
            " 6   toss_winner      756 non-null    object\n",
            " 7   toss_decision    756 non-null    object\n",
            " 8   result           756 non-null    object\n",
            " 9   dl_applied       756 non-null    int64 \n",
            " 10  winner           752 non-null    object\n",
            " 11  win_by_runs      756 non-null    int64 \n",
            " 12  win_by_wickets   756 non-null    int64 \n",
            " 13  player_of_match  752 non-null    object\n",
            " 14  venue            756 non-null    object\n",
            " 15  umpire1          754 non-null    object\n",
            " 16  umpire2          754 non-null    object\n",
            " 17  umpire3          119 non-null    object\n",
            "dtypes: int64(4), object(14)\n",
            "memory usage: 106.4+ KB\n"
          ]
        }
      ]
    },
    {
      "cell_type": "code",
      "source": [
        "data=data.dropna(subset=[\"city\"])"
      ],
      "metadata": {
        "id": "LlTKZAqlXy-U"
      },
      "execution_count": null,
      "outputs": []
    },
    {
      "cell_type": "code",
      "source": [
        "data.info()"
      ],
      "metadata": {
        "colab": {
          "base_uri": "https://localhost:8080/"
        },
        "id": "yOuG6sRklPdF",
        "outputId": "ecfea542-16c8-487f-9a24-c8b1900f0419"
      },
      "execution_count": null,
      "outputs": [
        {
          "output_type": "stream",
          "name": "stdout",
          "text": [
            "<class 'pandas.core.frame.DataFrame'>\n",
            "Int64Index: 749 entries, 0 to 755\n",
            "Data columns (total 18 columns):\n",
            " #   Column           Non-Null Count  Dtype \n",
            "---  ------           --------------  ----- \n",
            " 0   id               749 non-null    int64 \n",
            " 1   Season           749 non-null    object\n",
            " 2   city             749 non-null    object\n",
            " 3   date             749 non-null    object\n",
            " 4   team1            749 non-null    object\n",
            " 5   team2            749 non-null    object\n",
            " 6   toss_winner      749 non-null    object\n",
            " 7   toss_decision    749 non-null    object\n",
            " 8   result           749 non-null    object\n",
            " 9   dl_applied       749 non-null    int64 \n",
            " 10  winner           745 non-null    object\n",
            " 11  win_by_runs      749 non-null    int64 \n",
            " 12  win_by_wickets   749 non-null    int64 \n",
            " 13  player_of_match  745 non-null    object\n",
            " 14  venue            749 non-null    object\n",
            " 15  umpire1          747 non-null    object\n",
            " 16  umpire2          747 non-null    object\n",
            " 17  umpire3          119 non-null    object\n",
            "dtypes: int64(4), object(14)\n",
            "memory usage: 111.2+ KB\n"
          ]
        }
      ]
    },
    {
      "cell_type": "code",
      "source": [
        "del data[\"umpire1\"]\n",
        "del data[\"umpire2\"]\n",
        "del data[\"umpire3\"]\n",
        "data.info()"
      ],
      "metadata": {
        "colab": {
          "base_uri": "https://localhost:8080/"
        },
        "id": "9iSe6_bAoB_l",
        "outputId": "c04f64fe-82b7-4c3b-c7d2-4f3c34aec4a9"
      },
      "execution_count": null,
      "outputs": [
        {
          "output_type": "stream",
          "name": "stdout",
          "text": [
            "<class 'pandas.core.frame.DataFrame'>\n",
            "Int64Index: 749 entries, 0 to 755\n",
            "Data columns (total 15 columns):\n",
            " #   Column           Non-Null Count  Dtype \n",
            "---  ------           --------------  ----- \n",
            " 0   id               749 non-null    int64 \n",
            " 1   Season           749 non-null    object\n",
            " 2   city             749 non-null    object\n",
            " 3   date             749 non-null    object\n",
            " 4   team1            749 non-null    object\n",
            " 5   team2            749 non-null    object\n",
            " 6   toss_winner      749 non-null    object\n",
            " 7   toss_decision    749 non-null    object\n",
            " 8   result           749 non-null    object\n",
            " 9   dl_applied       749 non-null    int64 \n",
            " 10  winner           745 non-null    object\n",
            " 11  win_by_runs      749 non-null    int64 \n",
            " 12  win_by_wickets   749 non-null    int64 \n",
            " 13  player_of_match  745 non-null    object\n",
            " 14  venue            749 non-null    object\n",
            "dtypes: int64(4), object(11)\n",
            "memory usage: 93.6+ KB\n"
          ]
        }
      ]
    },
    {
      "cell_type": "code",
      "source": [
        "data.shape"
      ],
      "metadata": {
        "colab": {
          "base_uri": "https://localhost:8080/"
        },
        "id": "dQLbwpNPpBCU",
        "outputId": "e114d329-3925-447f-c767-2d36d3fce370"
      },
      "execution_count": null,
      "outputs": [
        {
          "output_type": "execute_result",
          "data": {
            "text/plain": [
              "(749, 15)"
            ]
          },
          "metadata": {},
          "execution_count": 70
        }
      ]
    },
    {
      "cell_type": "code",
      "source": [
        "data[\"winner\"]=data[\"winner\"].fillna(\"Mumbai Indians\")\n",
        "data.info()"
      ],
      "metadata": {
        "colab": {
          "base_uri": "https://localhost:8080/"
        },
        "id": "Aek5UERzpEjF",
        "outputId": "851b4fe3-218b-4489-e20a-25dee3bebfd3"
      },
      "execution_count": null,
      "outputs": [
        {
          "output_type": "stream",
          "name": "stdout",
          "text": [
            "<class 'pandas.core.frame.DataFrame'>\n",
            "Int64Index: 749 entries, 0 to 755\n",
            "Data columns (total 15 columns):\n",
            " #   Column           Non-Null Count  Dtype \n",
            "---  ------           --------------  ----- \n",
            " 0   id               749 non-null    int64 \n",
            " 1   Season           749 non-null    object\n",
            " 2   city             749 non-null    object\n",
            " 3   date             749 non-null    object\n",
            " 4   team1            749 non-null    object\n",
            " 5   team2            749 non-null    object\n",
            " 6   toss_winner      749 non-null    object\n",
            " 7   toss_decision    749 non-null    object\n",
            " 8   result           749 non-null    object\n",
            " 9   dl_applied       749 non-null    int64 \n",
            " 10  winner           749 non-null    object\n",
            " 11  win_by_runs      749 non-null    int64 \n",
            " 12  win_by_wickets   749 non-null    int64 \n",
            " 13  player_of_match  749 non-null    object\n",
            " 14  venue            749 non-null    object\n",
            "dtypes: int64(4), object(11)\n",
            "memory usage: 93.6+ KB\n"
          ]
        }
      ]
    },
    {
      "cell_type": "code",
      "source": [
        "data[\"player_of_match\"]=data[\"player_of_match\"].fillna(\"Rohit Sharma\")\n",
        "data.info()"
      ],
      "metadata": {
        "colab": {
          "base_uri": "https://localhost:8080/"
        },
        "id": "z5LOpjkwqfxx",
        "outputId": "9f4d2190-06b6-48dd-c461-84b193e8a2a0"
      },
      "execution_count": null,
      "outputs": [
        {
          "output_type": "stream",
          "name": "stdout",
          "text": [
            "<class 'pandas.core.frame.DataFrame'>\n",
            "Int64Index: 749 entries, 0 to 755\n",
            "Data columns (total 15 columns):\n",
            " #   Column           Non-Null Count  Dtype \n",
            "---  ------           --------------  ----- \n",
            " 0   id               749 non-null    int64 \n",
            " 1   Season           749 non-null    object\n",
            " 2   city             749 non-null    object\n",
            " 3   date             749 non-null    object\n",
            " 4   team1            749 non-null    object\n",
            " 5   team2            749 non-null    object\n",
            " 6   toss_winner      749 non-null    object\n",
            " 7   toss_decision    749 non-null    object\n",
            " 8   result           749 non-null    object\n",
            " 9   dl_applied       749 non-null    int64 \n",
            " 10  winner           749 non-null    object\n",
            " 11  win_by_runs      749 non-null    int64 \n",
            " 12  win_by_wickets   749 non-null    int64 \n",
            " 13  player_of_match  749 non-null    object\n",
            " 14  venue            749 non-null    object\n",
            "dtypes: int64(4), object(11)\n",
            "memory usage: 93.6+ KB\n"
          ]
        }
      ]
    },
    {
      "cell_type": "code",
      "source": [
        "match=0\n",
        "for i in data[\"team1\"]:\n",
        "  if (i==\"Mumbai Indians\"):\n",
        "    match=match+1\n",
        "for i in data[\"team2\"]:\n",
        "  if (i==\"Mumbai Indians\"):\n",
        "    match=match+1\n",
        "print(match)"
      ],
      "metadata": {
        "id": "YTzCWZOstt_2",
        "colab": {
          "base_uri": "https://localhost:8080/"
        },
        "outputId": "02b4c7ae-9b0f-4b60-c454-f97ab69bb736"
      },
      "execution_count": null,
      "outputs": [
        {
          "output_type": "stream",
          "name": "stdout",
          "text": [
            "184\n"
          ]
        }
      ]
    },
    {
      "cell_type": "code",
      "source": [
        "win=0\n",
        "for i in data[\"winner\"]:\n",
        "  if (i==\"Mumbai Indians\"):\n",
        "    win=win+1\n",
        "print(win)"
      ],
      "metadata": {
        "colab": {
          "base_uri": "https://localhost:8080/"
        },
        "id": "WSxQv_IWyoGz",
        "outputId": "21781535-3603-4693-a580-44e98f8f1798"
      },
      "execution_count": null,
      "outputs": [
        {
          "output_type": "stream",
          "name": "stdout",
          "text": [
            "109\n"
          ]
        }
      ]
    },
    {
      "cell_type": "code",
      "source": [],
      "metadata": {
        "id": "zAHRdgKHzv3s"
      },
      "execution_count": null,
      "outputs": []
    }
  ]
}